{
 "cells": [
  {
   "cell_type": "code",
   "execution_count": 1,
   "metadata": {},
   "outputs": [],
   "source": [
    "import requests\n",
    "import numpy as np\n",
    "from bs4 import BeautifulSoup\n",
    "import pandas as pd\n",
    "import datetime\n",
    "import re"
   ]
  },
  {
   "cell_type": "code",
   "execution_count": 2,
   "metadata": {},
   "outputs": [],
   "source": [
    "def extract_number(data):\n",
    "    match = re.search(r'\\d+', data)\n",
    "\n",
    "    if match:\n",
    "        number = match.group()\n",
    "        return float(number)\n",
    "    return np.nan"
   ]
  },
  {
   "cell_type": "code",
   "execution_count": 3,
   "metadata": {},
   "outputs": [],
   "source": [
    "def clean_weather_data(weather_data, date):\n",
    "    time = pd.to_datetime(date+' '+weather_data[0])\n",
    "    temperature_in_F = float(weather_data[1].replace('Â°F',\"\"))\n",
    "    temperature = round((temperature_in_F - 32) * 5/9, 2)\n",
    "    pressure = extract_number(weather_data[2])\n",
    "    wind = extract_number(weather_data[3])\n",
    "    visibility = extract_number(weather_data[4])\n",
    "    cloud_cover = weather_data[5]\n",
    "    weather_data = [time, temperature, pressure, wind, visibility, cloud_cover]\n",
    "    return weather_data"
   ]
  },
  {
   "cell_type": "code",
   "execution_count": 4,
   "metadata": {},
   "outputs": [],
   "source": [
    "def get_data(date):\n",
    "    try:\n",
    "        link = f'https://weatherspark.com/h/d/149040/{date}/Historical-Weather'\n",
    "        response = requests.get(link)\n",
    "        soup = BeautifulSoup(response.text, 'html.parser')\n",
    "        day_data = []\n",
    "        for minutes in range(0, 23 * 60 + 30, 30):\n",
    "            hours, mins = divmod(minutes, 60)\n",
    "            id = f\"metar-{hours:02d}-{mins:02d}\"\n",
    "            rows = soup.find_all('tr', id=id)\n",
    "            for row in rows:\n",
    "                if 'History-MetarReports-superseded' in row['class']:\n",
    "                    continue\n",
    "                row_data = row.find_all('td')\n",
    "                # for data in row_data:\n",
    "                if(len(row_data)==2):\n",
    "                    continue\n",
    "                elif len(row_data)==6:\n",
    "                    weather_data = [x.text.strip() for x in row_data]\n",
    "                    weather_data = clean_weather_data(weather_data, date)\n",
    "                    day_data.append(weather_data)\n",
    "                else:\n",
    "                    print(f\"Data size mismatch in {date}\")\n",
    "        return np.array(day_data)\n",
    "    except:\n",
    "        print(f\"Error occured while reading {date}\")"
   ]
  },
  {
   "cell_type": "code",
   "execution_count": 5,
   "metadata": {},
   "outputs": [],
   "source": [
    "def write_data(data, date):\n",
    "    path = f'weather_data/weather-{date}.xlsx'\n",
    "    columns = ['Time', 'Temperature', 'Pressure', 'Wind', 'Visibility', 'Cloud_Cover']\n",
    "    df = pd.DataFrame(data, columns = columns) \n",
    "    df.to_excel(path, index=False)"
   ]
  },
  {
   "cell_type": "code",
   "execution_count": 6,
   "metadata": {},
   "outputs": [],
   "source": [
    "year = 2022  # Replace with the year you want to generate days for\n",
    "\n",
    "for month in range(1, 13):\n",
    "    for day in range(1, 32):\n",
    "        try:\n",
    "            date = datetime.date(year, month, day)            \n",
    "            data = get_data(date.strftime(\"%Y/%m/%d\"))\n",
    "            write_data(data, date.strftime(\"%B-%d-%Y\"))\n",
    "        except ValueError:\n",
    "            pass"
   ]
  },
  {
   "cell_type": "code",
   "execution_count": null,
   "metadata": {},
   "outputs": [],
   "source": []
  }
 ],
 "metadata": {
  "kernelspec": {
   "display_name": "Python 3",
   "language": "python",
   "name": "python3"
  },
  "language_info": {
   "codemirror_mode": {
    "name": "ipython",
    "version": 3
   },
   "file_extension": ".py",
   "mimetype": "text/x-python",
   "name": "python",
   "nbconvert_exporter": "python",
   "pygments_lexer": "ipython3",
   "version": "3.11.1"
  }
 },
 "nbformat": 4,
 "nbformat_minor": 2
}
