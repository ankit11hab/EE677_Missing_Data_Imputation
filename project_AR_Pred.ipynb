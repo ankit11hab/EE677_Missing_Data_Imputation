{
 "cells": [
  {
   "cell_type": "code",
   "execution_count": 6,
   "metadata": {},
   "outputs": [],
   "source": [
    "import numpy as np\n",
    "import pandas as pd\n",
    "import matplotlib.pyplot as plt\n",
    "from datetime import datetime\n",
    "from data_loader import IITG_DataLoader\n",
    "from functions import Functions\n",
    "from imputer import DataImputer\n",
    "%matplotlib inline"
   ]
  },
  {
   "cell_type": "code",
   "execution_count": 7,
   "metadata": {},
   "outputs": [],
   "source": [
    "functions = Functions()\n",
    "imputer = DataImputer()"
   ]
  },
  {
   "cell_type": "code",
   "execution_count": 8,
   "metadata": {},
   "outputs": [
    {
     "data": {
      "text/html": [
       "<div>\n",
       "<style scoped>\n",
       "    .dataframe tbody tr th:only-of-type {\n",
       "        vertical-align: middle;\n",
       "    }\n",
       "\n",
       "    .dataframe tbody tr th {\n",
       "        vertical-align: top;\n",
       "    }\n",
       "\n",
       "    .dataframe thead th {\n",
       "        text-align: right;\n",
       "    }\n",
       "</style>\n",
       "<table border=\"1\" class=\"dataframe\">\n",
       "  <thead>\n",
       "    <tr style=\"text-align: right;\">\n",
       "      <th></th>\n",
       "      <th>Params</th>\n",
       "      <th>Values</th>\n",
       "    </tr>\n",
       "  </thead>\n",
       "  <tbody>\n",
       "    <tr>\n",
       "      <th>0</th>\n",
       "      <td>Columns</td>\n",
       "      <td>Power</td>\n",
       "    </tr>\n",
       "    <tr>\n",
       "      <th>1</th>\n",
       "      <td>Shape</td>\n",
       "      <td>(6763, 1)</td>\n",
       "    </tr>\n",
       "    <tr>\n",
       "      <th>2</th>\n",
       "      <td>Start Time</td>\n",
       "      <td>2022-02-02 01:00:00</td>\n",
       "    </tr>\n",
       "    <tr>\n",
       "      <th>3</th>\n",
       "      <td>End Time</td>\n",
       "      <td>2022-12-30 23:00:00</td>\n",
       "    </tr>\n",
       "    <tr>\n",
       "      <th>4</th>\n",
       "      <td>Mean Power</td>\n",
       "      <td>3.704663</td>\n",
       "    </tr>\n",
       "    <tr>\n",
       "      <th>5</th>\n",
       "      <td>NaN Powers</td>\n",
       "      <td>2272</td>\n",
       "    </tr>\n",
       "  </tbody>\n",
       "</table>\n",
       "</div>"
      ],
      "text/plain": [
       "       Params               Values\n",
       "0     Columns                Power\n",
       "1       Shape            (6763, 1)\n",
       "2  Start Time  2022-02-02 01:00:00\n",
       "3    End Time  2022-12-30 23:00:00\n",
       "4  Mean Power             3.704663\n",
       "5  NaN Powers                 2272"
      ]
     },
     "execution_count": 8,
     "metadata": {},
     "output_type": "execute_result"
    }
   ],
   "source": [
    "# Load the data\n",
    "folder_path = 'power_import_data/'\n",
    "apdcl_import = IITG_DataLoader()\n",
    "raw_import_data = apdcl_import.load_all(folder_path, interpolate=False, power_header='MW', \\\n",
    "                                        start_time='2022-02-02', end_time='2022-12-31')\n",
    "raw_import_data.loc[raw_import_data['Power'] > 10, 'Power'] = None\n",
    "apdcl_import.describe()"
   ]
  },
  {
   "cell_type": "code",
   "execution_count": 9,
   "metadata": {},
   "outputs": [
    {
     "data": {
      "text/html": [
       "<div>\n",
       "<style scoped>\n",
       "    .dataframe tbody tr th:only-of-type {\n",
       "        vertical-align: middle;\n",
       "    }\n",
       "\n",
       "    .dataframe tbody tr th {\n",
       "        vertical-align: top;\n",
       "    }\n",
       "\n",
       "    .dataframe thead th {\n",
       "        text-align: right;\n",
       "    }\n",
       "</style>\n",
       "<table border=\"1\" class=\"dataframe\">\n",
       "  <thead>\n",
       "    <tr style=\"text-align: right;\">\n",
       "      <th></th>\n",
       "      <th>Params</th>\n",
       "      <th>Values</th>\n",
       "    </tr>\n",
       "  </thead>\n",
       "  <tbody>\n",
       "    <tr>\n",
       "      <th>0</th>\n",
       "      <td>Columns</td>\n",
       "      <td>Power</td>\n",
       "    </tr>\n",
       "    <tr>\n",
       "      <th>1</th>\n",
       "      <td>Shape</td>\n",
       "      <td>(26492, 1)</td>\n",
       "    </tr>\n",
       "    <tr>\n",
       "      <th>2</th>\n",
       "      <td>Start Time</td>\n",
       "      <td>2022-02-02 05:40:00</td>\n",
       "    </tr>\n",
       "    <tr>\n",
       "      <th>3</th>\n",
       "      <td>End Time</td>\n",
       "      <td>2022-12-30 17:10:00</td>\n",
       "    </tr>\n",
       "    <tr>\n",
       "      <th>4</th>\n",
       "      <td>Mean Power</td>\n",
       "      <td>230.395487</td>\n",
       "    </tr>\n",
       "    <tr>\n",
       "      <th>5</th>\n",
       "      <td>NaN Powers</td>\n",
       "      <td>0</td>\n",
       "    </tr>\n",
       "  </tbody>\n",
       "</table>\n",
       "</div>"
      ],
      "text/plain": [
       "       Params               Values\n",
       "0     Columns                Power\n",
       "1       Shape           (26492, 1)\n",
       "2  Start Time  2022-02-02 05:40:00\n",
       "3    End Time  2022-12-30 17:10:00\n",
       "4  Mean Power           230.395487\n",
       "5  NaN Powers                    0"
      ]
     },
     "execution_count": 9,
     "metadata": {},
     "output_type": "execute_result"
    }
   ],
   "source": [
    "# Load the data\n",
    "folder_path = 'pv_gen_data/'\n",
    "pv_gen = IITG_DataLoader()\n",
    "solar_data = pv_gen.load_all(folder_path, interpolate=False, time_header='x1', power_header='ActivePower',\\\n",
    "                 start_time='2022-02-02', end_time='2022-12-31')\n",
    "pv_gen.describe()"
   ]
  },
  {
   "cell_type": "code",
   "execution_count": 10,
   "metadata": {},
   "outputs": [
    {
     "data": {
      "text/plain": [
       "(25530, 1)"
      ]
     },
     "execution_count": 10,
     "metadata": {},
     "output_type": "execute_result"
    }
   ],
   "source": [
    "solar_data = solar_data[solar_data['Power'] > 0]\n",
    "solar_data.loc[:,'Power'] = solar_data['Power']/1000\n",
    "solar_data.shape"
   ]
  },
  {
   "cell_type": "code",
   "execution_count": 11,
   "metadata": {},
   "outputs": [
    {
     "data": {
      "text/html": [
       "<div>\n",
       "<style scoped>\n",
       "    .dataframe tbody tr th:only-of-type {\n",
       "        vertical-align: middle;\n",
       "    }\n",
       "\n",
       "    .dataframe tbody tr th {\n",
       "        vertical-align: top;\n",
       "    }\n",
       "\n",
       "    .dataframe thead th {\n",
       "        text-align: right;\n",
       "    }\n",
       "</style>\n",
       "<table border=\"1\" class=\"dataframe\">\n",
       "  <thead>\n",
       "    <tr style=\"text-align: right;\">\n",
       "      <th></th>\n",
       "      <th>Power</th>\n",
       "    </tr>\n",
       "  </thead>\n",
       "  <tbody>\n",
       "    <tr>\n",
       "      <th>2022-02-02 01:00:00</th>\n",
       "      <td>NaN</td>\n",
       "    </tr>\n",
       "    <tr>\n",
       "      <th>2022-02-02 02:00:00</th>\n",
       "      <td>NaN</td>\n",
       "    </tr>\n",
       "    <tr>\n",
       "      <th>2022-02-02 03:00:00</th>\n",
       "      <td>NaN</td>\n",
       "    </tr>\n",
       "    <tr>\n",
       "      <th>2022-02-02 04:00:00</th>\n",
       "      <td>NaN</td>\n",
       "    </tr>\n",
       "    <tr>\n",
       "      <th>2022-02-02 05:00:00</th>\n",
       "      <td>2.3</td>\n",
       "    </tr>\n",
       "  </tbody>\n",
       "</table>\n",
       "</div>"
      ],
      "text/plain": [
       "                     Power\n",
       "2022-02-02 01:00:00    NaN\n",
       "2022-02-02 02:00:00    NaN\n",
       "2022-02-02 03:00:00    NaN\n",
       "2022-02-02 04:00:00    NaN\n",
       "2022-02-02 05:00:00    2.3"
      ]
     },
     "execution_count": 11,
     "metadata": {},
     "output_type": "execute_result"
    }
   ],
   "source": [
    "demand_data = pd.merge(raw_import_data, solar_data, suffixes=('_import', '_solar'), \\\n",
    "                     left_index=True, right_index=True, how='left')\n",
    "demand_data['Power_solar'].fillna(0, inplace=True)\n",
    "demand_data['Power'] = demand_data['Power_import'] + 1.9*demand_data['Power_solar']\n",
    "demand_data = demand_data.drop(columns=['Power_import','Power_solar'])\n",
    "demand_data.head()"
   ]
  },
  {
   "cell_type": "code",
   "execution_count": 12,
   "metadata": {},
   "outputs": [
    {
     "data": {
      "text/html": [
       "<div>\n",
       "<style scoped>\n",
       "    .dataframe tbody tr th:only-of-type {\n",
       "        vertical-align: middle;\n",
       "    }\n",
       "\n",
       "    .dataframe tbody tr th {\n",
       "        vertical-align: top;\n",
       "    }\n",
       "\n",
       "    .dataframe thead th {\n",
       "        text-align: right;\n",
       "    }\n",
       "</style>\n",
       "<table border=\"1\" class=\"dataframe\">\n",
       "  <thead>\n",
       "    <tr style=\"text-align: right;\">\n",
       "      <th></th>\n",
       "      <th>Power</th>\n",
       "    </tr>\n",
       "  </thead>\n",
       "  <tbody>\n",
       "    <tr>\n",
       "      <th>2022-02-02 01:00:00</th>\n",
       "      <td>NaN</td>\n",
       "    </tr>\n",
       "    <tr>\n",
       "      <th>2022-02-02 02:00:00</th>\n",
       "      <td>NaN</td>\n",
       "    </tr>\n",
       "    <tr>\n",
       "      <th>2022-02-02 03:00:00</th>\n",
       "      <td>NaN</td>\n",
       "    </tr>\n",
       "    <tr>\n",
       "      <th>2022-02-02 04:00:00</th>\n",
       "      <td>NaN</td>\n",
       "    </tr>\n",
       "    <tr>\n",
       "      <th>2022-02-02 05:00:00</th>\n",
       "      <td>-0.010679</td>\n",
       "    </tr>\n",
       "  </tbody>\n",
       "</table>\n",
       "</div>"
      ],
      "text/plain": [
       "                        Power\n",
       "2022-02-02 01:00:00       NaN\n",
       "2022-02-02 02:00:00       NaN\n",
       "2022-02-02 03:00:00       NaN\n",
       "2022-02-02 04:00:00       NaN\n",
       "2022-02-02 05:00:00 -0.010679"
      ]
     },
     "execution_count": 12,
     "metadata": {},
     "output_type": "execute_result"
    }
   ],
   "source": [
    "functions = Functions()\n",
    "trend, detrended_demand_data = functions.detrend_data(demand_data, order=15, column='Power')\n",
    "detrended_demand_data.head()"
   ]
  },
  {
   "cell_type": "code",
   "execution_count": 13,
   "metadata": {},
   "outputs": [],
   "source": [
    "values = [-1,1,-2,2,-24,24,-48,48]\n",
    "functions.do_power_shifts(detrended_demand_data, values=values)\n",
    "detrended_demand_data['PredictedPower'] = [np.nan]*detrended_demand_data.shape[0]"
   ]
  },
  {
   "cell_type": "code",
   "execution_count": 14,
   "metadata": {},
   "outputs": [],
   "source": [
    "def get_input_columns(time_set):\n",
    "    input_columns = []\n",
    "    for time in time_set:\n",
    "        input_column = functions.time_to_word(time)\n",
    "        input_columns.append(input_column)"
   ]
  },
  {
   "cell_type": "code",
   "execution_count": 15,
   "metadata": {},
   "outputs": [],
   "source": [
    "def impute(data):\n",
    "    daily = [-1,1,-2,2]\n",
    "    seasonal = [-24,24,-48,48]\n",
    "    time_sets = functions.generate_combinations(daily, seasonal)\n",
    "    \n",
    "    results = []\n",
    "    for time_set in time_sets:\n",
    "        if len(time_set)==0:\n",
    "            continue\n",
    "        input_columns = get_input_columns(time_set)\n",
    "\n",
    "        trimmed_data, train_data = imputer.trim_data(data, input_columns)\n",
    "        X_train, X_test, Y_train, Y_test, X_pred = imputer.train_test_pred_split(trimmed_data, train_data, input_columns)\n",
    "        if X_train.shape[0]<1000 or X_pred.shape[0]<1:\n",
    "            continue\n",
    "        Y_pred, score = imputer.predict(X_train, X_test, Y_train, Y_test, X_pred)\n",
    "\n",
    "        time_instants = trimmed_data.index\n",
    "        if(score>0.85):\n",
    "            results.append((score, time_instants, Y_pred))\n",
    "        \n",
    "    sorted(results, reverse=True)\n",
    "    filled = 0\n",
    "    for result in results:\n",
    "        data, count = imputer.fill_values(data, result[1], result[2])\n",
    "        filled+=count \n",
    "    return filled"
   ]
  },
  {
   "cell_type": "code",
   "execution_count": 16,
   "metadata": {},
   "outputs": [
    {
     "ename": "TypeError",
     "evalue": "unsupported operand type(s) for +: 'NoneType' and 'list'",
     "output_type": "error",
     "traceback": [
      "\u001b[1;31m---------------------------------------------------------------------------\u001b[0m",
      "\u001b[1;31mTypeError\u001b[0m                                 Traceback (most recent call last)",
      "\u001b[1;32md:\\Sem 6\\Smart Grids\\Project\\project_AR_Pred.ipynb Cell 11\u001b[0m line \u001b[0;36m2\n\u001b[0;32m      <a href='vscode-notebook-cell:/d%3A/Sem%206/Smart%20Grids/Project/project_AR_Pred.ipynb#X14sZmlsZQ%3D%3D?line=0'>1</a>\u001b[0m \u001b[39mwhile\u001b[39;00m detrended_demand_data[\u001b[39m'\u001b[39m\u001b[39mPower\u001b[39m\u001b[39m'\u001b[39m]\u001b[39m.\u001b[39misna()\u001b[39m.\u001b[39msum()\u001b[39m>\u001b[39m\u001b[39m500\u001b[39m:\n\u001b[1;32m----> <a href='vscode-notebook-cell:/d%3A/Sem%206/Smart%20Grids/Project/project_AR_Pred.ipynb#X14sZmlsZQ%3D%3D?line=1'>2</a>\u001b[0m     impute(detrended_demand_data)\n\u001b[0;32m      <a href='vscode-notebook-cell:/d%3A/Sem%206/Smart%20Grids/Project/project_AR_Pred.ipynb#X14sZmlsZQ%3D%3D?line=2'>3</a>\u001b[0m     detrended_demand_data[\u001b[39m'\u001b[39m\u001b[39mPower\u001b[39m\u001b[39m'\u001b[39m] \u001b[39m=\u001b[39m detrended_demand_data[\u001b[39m'\u001b[39m\u001b[39mPredictedPower\u001b[39m\u001b[39m'\u001b[39m]\n\u001b[0;32m      <a href='vscode-notebook-cell:/d%3A/Sem%206/Smart%20Grids/Project/project_AR_Pred.ipynb#X14sZmlsZQ%3D%3D?line=3'>4</a>\u001b[0m     functions\u001b[39m.\u001b[39mdo_power_shifts(detrended_demand_data, values)\n",
      "\u001b[1;32md:\\Sem 6\\Smart Grids\\Project\\project_AR_Pred.ipynb Cell 11\u001b[0m line \u001b[0;36m1\n\u001b[0;32m      <a href='vscode-notebook-cell:/d%3A/Sem%206/Smart%20Grids/Project/project_AR_Pred.ipynb#X14sZmlsZQ%3D%3D?line=8'>9</a>\u001b[0m     \u001b[39mcontinue\u001b[39;00m\n\u001b[0;32m     <a href='vscode-notebook-cell:/d%3A/Sem%206/Smart%20Grids/Project/project_AR_Pred.ipynb#X14sZmlsZQ%3D%3D?line=9'>10</a>\u001b[0m input_columns \u001b[39m=\u001b[39m get_input_columns(time_set)\n\u001b[1;32m---> <a href='vscode-notebook-cell:/d%3A/Sem%206/Smart%20Grids/Project/project_AR_Pred.ipynb#X14sZmlsZQ%3D%3D?line=11'>12</a>\u001b[0m trimmed_data, train_data \u001b[39m=\u001b[39m imputer\u001b[39m.\u001b[39;49mtrim_data(data, input_columns)\n\u001b[0;32m     <a href='vscode-notebook-cell:/d%3A/Sem%206/Smart%20Grids/Project/project_AR_Pred.ipynb#X14sZmlsZQ%3D%3D?line=12'>13</a>\u001b[0m X_train, X_test, Y_train, Y_test, X_pred \u001b[39m=\u001b[39m imputer\u001b[39m.\u001b[39mtrain_test_pred_split(trimmed_data, train_data, input_columns)\n\u001b[0;32m     <a href='vscode-notebook-cell:/d%3A/Sem%206/Smart%20Grids/Project/project_AR_Pred.ipynb#X14sZmlsZQ%3D%3D?line=13'>14</a>\u001b[0m \u001b[39mif\u001b[39;00m X_train\u001b[39m.\u001b[39mshape[\u001b[39m0\u001b[39m]\u001b[39m<\u001b[39m\u001b[39m1000\u001b[39m \u001b[39mor\u001b[39;00m X_pred\u001b[39m.\u001b[39mshape[\u001b[39m0\u001b[39m]\u001b[39m<\u001b[39m\u001b[39m1\u001b[39m:\n",
      "File \u001b[1;32md:\\Sem 6\\Smart Grids\\Project\\imputer.py:18\u001b[0m, in \u001b[0;36mtrim_data\u001b[1;34m(self, data, input_columns, output_column, predicted_column)\u001b[0m\n\u001b[0;32m     16\u001b[0m train_data \u001b[39m=\u001b[39m trimmed_data\u001b[39m.\u001b[39mdropna(subset\u001b[39m=\u001b[39minput_columns\u001b[39m+\u001b[39m[output_column])\n\u001b[0;32m     17\u001b[0m trimmed_data \u001b[39m=\u001b[39m trimmed_data[trimmed_data[predicted_column]\u001b[39m.\u001b[39misna()]\n\u001b[1;32m---> 18\u001b[0m \u001b[39mreturn\u001b[39;00m trimmed_data, train_data\n",
      "\u001b[1;31mTypeError\u001b[0m: unsupported operand type(s) for +: 'NoneType' and 'list'"
     ]
    }
   ],
   "source": [
    "while detrended_demand_data['Power'].isna().sum()>500:\n",
    "    impute(detrended_demand_data)\n",
    "    detrended_demand_data['Power'] = detrended_demand_data['PredictedPower']\n",
    "    functions.do_power_shifts(detrended_demand_data, values)"
   ]
  },
  {
   "cell_type": "code",
   "execution_count": null,
   "metadata": {},
   "outputs": [],
   "source": [
    "predicted_values = detrended_demand_data['PredictedPower'].values+trend\n",
    "predicted_data = pd.DataFrame({'Power':predicted_values})\n",
    "predicted_data.index = detrended_demand_data.index"
   ]
  },
  {
   "cell_type": "code",
   "execution_count": null,
   "metadata": {},
   "outputs": [],
   "source": [
    "start_time_ana = pd.to_datetime('2022-03-23')\n",
    "end_time_ana = pd.to_datetime('2022-03-28')\n",
    "\n",
    "filtered_pred = predicted_data[(predicted_data.index>start_time_ana) & (predicted_data.index<end_time_ana)]\n",
    "filtered_actual = demand_data[(demand_data.index>start_time_ana) & (demand_data.index<end_time_ana)]\n",
    "\n",
    "fig, ax1 = plt.subplots(figsize=(10, 6))\n",
    "plt.plot(filtered_pred.index, filtered_pred['Power'])\n",
    "plt.plot(filtered_actual.index, filtered_actual['Power'], color='red')\n",
    "fig.autofmt_xdate()\n",
    "plt.legend(['Predicted Demand', 'Actual Demand'])\n",
    "plt.plot()"
   ]
  }
 ],
 "metadata": {
  "kernelspec": {
   "display_name": "Python 3",
   "language": "python",
   "name": "python3"
  },
  "language_info": {
   "codemirror_mode": {
    "name": "ipython",
    "version": 3
   },
   "file_extension": ".py",
   "mimetype": "text/x-python",
   "name": "python",
   "nbconvert_exporter": "python",
   "pygments_lexer": "ipython3",
   "version": "3.11.1"
  }
 },
 "nbformat": 4,
 "nbformat_minor": 2
}
