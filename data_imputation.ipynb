{
 "cells": [
  {
   "cell_type": "code",
   "execution_count": 1,
   "metadata": {},
   "outputs": [],
   "source": [
    "import numpy as np\n",
    "import pandas as pd\n",
    "import matplotlib.pyplot as plt\n",
    "from datetime import datetime\n",
    "from sklearn.metrics import r2_score\n",
    "from sklearn.model_selection import train_test_split\n",
    "from lib.data_loader import IITG_DataLoader\n",
    "from lib.functions import Functions\n",
    "from lib.imputer import DataImputer\n",
    "import os\n",
    "%matplotlib inline"
   ]
  },
  {
   "cell_type": "code",
   "execution_count": 2,
   "metadata": {},
   "outputs": [],
   "source": [
    "functions = Functions()\n",
    "imputer = DataImputer()"
   ]
  },
  {
   "cell_type": "code",
   "execution_count": 3,
   "metadata": {},
   "outputs": [],
   "source": [
    "# Load power import data\n",
    "folder_path = 'power_import_data/'\n",
    "apdcl_import = IITG_DataLoader()\n",
    "raw_import_data = apdcl_import.load_all(folder_path, interpolate=False, power_header='MW', \\\n",
    "                                        start_time='2022-02-02', end_time='2022-12-31')\n",
    "raw_import_data.loc[raw_import_data['Power'] > 10, 'Power'] = None"
   ]
  },
  {
   "cell_type": "code",
   "execution_count": 4,
   "metadata": {},
   "outputs": [],
   "source": [
    "# Load pv generation (phase 2) data\n",
    "folder_path = 'pv_gen_data/'\n",
    "pv_gen = IITG_DataLoader()\n",
    "solar_data = pv_gen.load_all(folder_path, interpolate=False, time_header='x1', power_header='ActivePower',\\\n",
    "                 start_time='2022-02-02', end_time='2022-12-31')\n",
    "# Divide solar power values by 1000 to convert it from kWh to MWh\n",
    "solar_data = solar_data[solar_data['Power'] > 0]\n",
    "solar_data.loc[:,'Power'] = solar_data['Power']/1000"
   ]
  },
  {
   "cell_type": "code",
   "execution_count": 5,
   "metadata": {},
   "outputs": [],
   "source": [
    "# Load weather data\n",
    "folder_path = 'weather_data/'\n",
    "weather = IITG_DataLoader()\n",
    "weather_data = weather.load_all(folder_path, interpolate=False, power_header='Temperature')\n",
    "weather_data.rename(columns={'Power':'Temperature'}, inplace=True)"
   ]
  },
  {
   "cell_type": "code",
   "execution_count": 17,
   "metadata": {},
   "outputs": [
    {
     "data": {
      "text/html": [
       "<div>\n",
       "<style scoped>\n",
       "    .dataframe tbody tr th:only-of-type {\n",
       "        vertical-align: middle;\n",
       "    }\n",
       "\n",
       "    .dataframe tbody tr th {\n",
       "        vertical-align: top;\n",
       "    }\n",
       "\n",
       "    .dataframe thead th {\n",
       "        text-align: right;\n",
       "    }\n",
       "</style>\n",
       "<table border=\"1\" class=\"dataframe\">\n",
       "  <thead>\n",
       "    <tr style=\"text-align: right;\">\n",
       "      <th></th>\n",
       "      <th>Power</th>\n",
       "      <th>Temperature</th>\n",
       "    </tr>\n",
       "  </thead>\n",
       "  <tbody>\n",
       "    <tr>\n",
       "      <th>2022-02-02 01:00:00</th>\n",
       "      <td>NaN</td>\n",
       "      <td>NaN</td>\n",
       "    </tr>\n",
       "    <tr>\n",
       "      <th>2022-02-02 02:00:00</th>\n",
       "      <td>NaN</td>\n",
       "      <td>NaN</td>\n",
       "    </tr>\n",
       "    <tr>\n",
       "      <th>2022-02-02 03:00:00</th>\n",
       "      <td>NaN</td>\n",
       "      <td>NaN</td>\n",
       "    </tr>\n",
       "    <tr>\n",
       "      <th>2022-02-02 04:00:00</th>\n",
       "      <td>NaN</td>\n",
       "      <td>13.89</td>\n",
       "    </tr>\n",
       "    <tr>\n",
       "      <th>2022-02-02 05:00:00</th>\n",
       "      <td>2.3</td>\n",
       "      <td>13.89</td>\n",
       "    </tr>\n",
       "  </tbody>\n",
       "</table>\n",
       "</div>"
      ],
      "text/plain": [
       "                     Power  Temperature\n",
       "2022-02-02 01:00:00    NaN          NaN\n",
       "2022-02-02 02:00:00    NaN          NaN\n",
       "2022-02-02 03:00:00    NaN          NaN\n",
       "2022-02-02 04:00:00    NaN        13.89\n",
       "2022-02-02 05:00:00    2.3        13.89"
      ]
     },
     "execution_count": 17,
     "metadata": {},
     "output_type": "execute_result"
    }
   ],
   "source": [
    "# Compute total demand data\n",
    "# Total Demand = Power Import + 1.9 * PV Generation (Phase 2)\n",
    "demand_data = pd.merge(raw_import_data, solar_data, suffixes=('_import', '_solar'), \\\n",
    "                     left_index=True, right_index=True, how='left')\n",
    "demand_data['Power_solar'].fillna(0, inplace=True)\n",
    "demand_data['Power'] = demand_data['Power_import'] + 1.9*demand_data['Power_solar']\n",
    "demand_data = demand_data.drop(columns=['Power_import','Power_solar'])\n",
    "# Merge temperature data\n",
    "demand_data = pd.merge(demand_data, weather_data, \\\n",
    "                     left_index=True, right_index=True, how='left')\n",
    "demand_data.head()"
   ]
  },
  {
   "cell_type": "code",
   "execution_count": 18,
   "metadata": {},
   "outputs": [
    {
     "data": {
      "text/html": [
       "<div>\n",
       "<style scoped>\n",
       "    .dataframe tbody tr th:only-of-type {\n",
       "        vertical-align: middle;\n",
       "    }\n",
       "\n",
       "    .dataframe tbody tr th {\n",
       "        vertical-align: top;\n",
       "    }\n",
       "\n",
       "    .dataframe thead th {\n",
       "        text-align: right;\n",
       "    }\n",
       "</style>\n",
       "<table border=\"1\" class=\"dataframe\">\n",
       "  <thead>\n",
       "    <tr style=\"text-align: right;\">\n",
       "      <th></th>\n",
       "      <th>Power</th>\n",
       "      <th>Temperature</th>\n",
       "    </tr>\n",
       "  </thead>\n",
       "  <tbody>\n",
       "    <tr>\n",
       "      <th>2022-02-02 01:00:00</th>\n",
       "      <td>NaN</td>\n",
       "      <td>NaN</td>\n",
       "    </tr>\n",
       "    <tr>\n",
       "      <th>2022-02-02 02:00:00</th>\n",
       "      <td>NaN</td>\n",
       "      <td>NaN</td>\n",
       "    </tr>\n",
       "    <tr>\n",
       "      <th>2022-02-02 03:00:00</th>\n",
       "      <td>NaN</td>\n",
       "      <td>NaN</td>\n",
       "    </tr>\n",
       "    <tr>\n",
       "      <th>2022-02-02 04:00:00</th>\n",
       "      <td>NaN</td>\n",
       "      <td>-0.784529</td>\n",
       "    </tr>\n",
       "    <tr>\n",
       "      <th>2022-02-02 05:00:00</th>\n",
       "      <td>-0.010679</td>\n",
       "      <td>-0.802719</td>\n",
       "    </tr>\n",
       "  </tbody>\n",
       "</table>\n",
       "</div>"
      ],
      "text/plain": [
       "                        Power  Temperature\n",
       "2022-02-02 01:00:00       NaN          NaN\n",
       "2022-02-02 02:00:00       NaN          NaN\n",
       "2022-02-02 03:00:00       NaN          NaN\n",
       "2022-02-02 04:00:00       NaN    -0.784529\n",
       "2022-02-02 05:00:00 -0.010679    -0.802719"
      ]
     },
     "execution_count": 18,
     "metadata": {},
     "output_type": "execute_result"
    }
   ],
   "source": [
    "# Detrend the data \n",
    "trend_power, detrended_demand_data = functions.detrend_data(demand_data, order=15, column='Power')\n",
    "trend_temperature, detrended_demand_data = functions.detrend_data(detrended_demand_data, order=15, column='Temperature')\n",
    "detrended_demand_data.head(5)"
   ]
  },
  {
   "cell_type": "code",
   "execution_count": 19,
   "metadata": {},
   "outputs": [
    {
     "data": {
      "text/html": [
       "<div>\n",
       "<style scoped>\n",
       "    .dataframe tbody tr th:only-of-type {\n",
       "        vertical-align: middle;\n",
       "    }\n",
       "\n",
       "    .dataframe tbody tr th {\n",
       "        vertical-align: top;\n",
       "    }\n",
       "\n",
       "    .dataframe thead th {\n",
       "        text-align: right;\n",
       "    }\n",
       "</style>\n",
       "<table border=\"1\" class=\"dataframe\">\n",
       "  <thead>\n",
       "    <tr style=\"text-align: right;\">\n",
       "      <th></th>\n",
       "      <th>Power</th>\n",
       "      <th>Temperature</th>\n",
       "      <th>Temperature_2</th>\n",
       "    </tr>\n",
       "  </thead>\n",
       "  <tbody>\n",
       "    <tr>\n",
       "      <th>2022-02-02 01:00:00</th>\n",
       "      <td>NaN</td>\n",
       "      <td>NaN</td>\n",
       "      <td>NaN</td>\n",
       "    </tr>\n",
       "    <tr>\n",
       "      <th>2022-02-02 02:00:00</th>\n",
       "      <td>NaN</td>\n",
       "      <td>NaN</td>\n",
       "      <td>NaN</td>\n",
       "    </tr>\n",
       "    <tr>\n",
       "      <th>2022-02-02 03:00:00</th>\n",
       "      <td>NaN</td>\n",
       "      <td>NaN</td>\n",
       "      <td>NaN</td>\n",
       "    </tr>\n",
       "    <tr>\n",
       "      <th>2022-02-02 04:00:00</th>\n",
       "      <td>NaN</td>\n",
       "      <td>-0.784529</td>\n",
       "      <td>-0.615486</td>\n",
       "    </tr>\n",
       "    <tr>\n",
       "      <th>2022-02-02 05:00:00</th>\n",
       "      <td>-0.010679</td>\n",
       "      <td>-0.802719</td>\n",
       "      <td>-0.644358</td>\n",
       "    </tr>\n",
       "  </tbody>\n",
       "</table>\n",
       "</div>"
      ],
      "text/plain": [
       "                        Power  Temperature  Temperature_2\n",
       "2022-02-02 01:00:00       NaN          NaN            NaN\n",
       "2022-02-02 02:00:00       NaN          NaN            NaN\n",
       "2022-02-02 03:00:00       NaN          NaN            NaN\n",
       "2022-02-02 04:00:00       NaN    -0.784529      -0.615486\n",
       "2022-02-02 05:00:00 -0.010679    -0.802719      -0.644358"
      ]
     },
     "execution_count": 19,
     "metadata": {},
     "output_type": "execute_result"
    }
   ],
   "source": [
    "# Add Temperature^2 as a feature\n",
    "detrended_demand_data['abs_Temperature'] = abs(detrended_demand_data['Temperature'])\n",
    "detrended_demand_data['Temperature_2'] = detrended_demand_data['Temperature']*detrended_demand_data['abs_Temperature']\n",
    "detrended_demand_data.drop(columns=['abs_Temperature'], inplace=True)\n",
    "detrended_demand_data.head(5)"
   ]
  },
  {
   "cell_type": "code",
   "execution_count": 20,
   "metadata": {},
   "outputs": [],
   "source": [
    "import copy\n",
    "# Function for imputing the data\n",
    "def impute(data, daily, periodic):\n",
    "    results = []\n",
    "\n",
    "    # Generate all combinations for columns with the daily and periodic values\n",
    "    time_sets = functions.generate_combinations(daily, periodic)\n",
    "    time_sets = copy.deepcopy(time_sets)+copy.deepcopy(time_sets)+copy.deepcopy(time_sets)\n",
    "    for i in range(len(time_sets)//2):\n",
    "        time_sets[i].append('Temperature')\n",
    "        time_sets[i].append('Temperature_2')\n",
    "    # print(time_sets)\n",
    "\n",
    "    # Loop through each combination and compute its predictions and score \n",
    "    for time_set in time_sets:\n",
    "        if len(time_set)==0:\n",
    "            continue\n",
    "        input_columns = functions.time_set_to_columns(time_set)\n",
    "        # print(input_columns)\n",
    "\n",
    "        trimmed_data, train_data = imputer.trim_data(data, input_columns)\n",
    "        X_train, X_test, Y_train, Y_test, X_pred = imputer.train_test_pred_split(trimmed_data, train_data, input_columns)\n",
    "        if X_train.shape[0]<1000 or X_pred.shape[0]<1:\n",
    "            continue\n",
    "        Y_pred, score = imputer.predict(X_train, X_test, Y_train, Y_test, X_pred)\n",
    "\n",
    "        time_instants = trimmed_data.index\n",
    "        if(score>0.85):\n",
    "            results.append((score, time_instants, Y_pred, input_columns))\n",
    "        \n",
    "    # Sort the results wrt scores\n",
    "    # sorted(results, key=lambda x: x[0], reverse=True)\n",
    "    results.sort()\n",
    "    results.reverse()\n",
    "    filled = 0\n",
    "    # print(results)\n",
    "    # Fill the values. Values with higher score's model are filled first.\n",
    "    for result in results:\n",
    "        # print(result[0], result[3])\n",
    "        data, count = imputer.fill_values(data, result[1], result[2])\n",
    "        filled+=count \n",
    "    return filled"
   ]
  },
  {
   "cell_type": "code",
   "execution_count": 21,
   "metadata": {},
   "outputs": [],
   "source": [
    "# Define daily and periodic time instants\n",
    "daily = [1,-1,2,-2]\n",
    "periodic = [24,-24,48,-48,-72,72]\n",
    "detrended_demand_data['PredictedPower'] = [np.nan]*detrended_demand_data.shape[0]\n",
    "while detrended_demand_data['Power'].isna().sum()>0:\n",
    "    functions.do_power_shifts(detrended_demand_data, daily+periodic)\n",
    "    impute(detrended_demand_data, daily, periodic)\n",
    "    detrended_demand_data['Power'] = detrended_demand_data['PredictedPower']"
   ]
  },
  {
   "cell_type": "code",
   "execution_count": 13,
   "metadata": {},
   "outputs": [
    {
     "data": {
      "text/plain": [
       "0"
      ]
     },
     "execution_count": 13,
     "metadata": {},
     "output_type": "execute_result"
    }
   ],
   "source": [
    "detrended_demand_data['PredictedPower'].isna().sum()"
   ]
  },
  {
   "cell_type": "code",
   "execution_count": 22,
   "metadata": {},
   "outputs": [],
   "source": [
    "# Get the final values by adding trend to the predicted data\n",
    "predicted_values = detrended_demand_data['PredictedPower'].values+trend_power\n",
    "predicted_data = pd.DataFrame({'Power':demand_data['Power'].values, 'PredictedPower':predicted_values})\n",
    "predicted_data.index = detrended_demand_data.index"
   ]
  },
  {
   "cell_type": "code",
   "execution_count": 23,
   "metadata": {},
   "outputs": [
    {
     "data": {
      "text/plain": [
       "[]"
      ]
     },
     "execution_count": 23,
     "metadata": {},
     "output_type": "execute_result"
    },
    {
     "data": {
      "image/png": "[encoded data removed]",
      "text/plain": [
       "<Figure size 1000x600 with 1 Axes>"
      ]
     },
     "metadata": {},
     "output_type": "display_data"
    }
   ],
   "source": [
    "# Visualize the data\n",
    "start_time_ana = pd.to_datetime('2022-07-12')\n",
    "end_time_ana = pd.to_datetime('2022-07-18')\n",
    "\n",
    "filtered_data = predicted_data[(predicted_data.index>start_time_ana) & (predicted_data.index<end_time_ana)]\n",
    "\n",
    "fig, ax1 = plt.subplots(figsize=(10, 6))\n",
    "plt.plot(filtered_data.index, filtered_data['PredictedPower'])\n",
    "plt.plot(filtered_data.index, filtered_data['Power'], color='red')\n",
    "fig.autofmt_xdate()\n",
    "plt.legend(['Predicted Demand', 'Actual Demand'])\n",
    "plt.plot()"
   ]
  },
  {
   "cell_type": "code",
   "execution_count": 24,
   "metadata": {},
   "outputs": [
    {
     "name": "stdout",
     "output_type": "stream",
     "text": [
      "R-squared Score: 0.933006403984505\n"
     ]
    }
   ],
   "source": [
    "# Score of the predicted values wrt actual\n",
    "df = predicted_data.dropna(subset=['Power', 'PredictedPower'])\n",
    "r2 = r2_score(df['Power'], df['PredictedPower'])\n",
    "print(\"R-squared Score:\", r2)"
   ]
  },
  {
   "cell_type": "code",
   "execution_count": 33,
   "metadata": {},
   "outputs": [
    {
     "name": "stderr",
     "output_type": "stream",
     "text": [
      "C:\\Users\\User\\AppData\\Local\\Temp\\ipykernel_14472\\376470071.py:295: FutureWarning: Setting an item of incompatible dtype is deprecated and will raise in a future error of pandas. Value 'NR' has dtype incompatible with float64, please explicitly cast to a compatible dtype first.\n",
      "  data[power_column].fillna('NR', inplace=True)\n"
     ]
    }
   ],
   "source": [
    "# Export the imputed data back to excel files\n",
    "final_data = predicted_data.drop(columns=['Power'])\n",
    "final_data.rename(columns={'PredictedPower':'Power'}, inplace = True)\n",
    "functions.export_data(data = final_data, folder_path='power_demand_imputed_data', file_prefix='demand')"
   ]
  },
  {
   "cell_type": "code",
   "execution_count": null,
   "metadata": {},
   "outputs": [],
   "source": []
  }
 ],
 "metadata": {
  "kernelspec": {
   "display_name": "Python 3",
   "language": "python",
   "name": "python3"
  },
  "language_info": {
   "codemirror_mode": {
    "name": "ipython",
    "version": 3
   },
   "file_extension": ".py",
   "mimetype": "text/x-python",
   "name": "python",
   "nbconvert_exporter": "python",
   "pygments_lexer": "ipython3",
   "version": "3.11.1"
  }
 },
 "nbformat": 4,
 "nbformat_minor": 2
}
